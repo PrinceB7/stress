{
 "cells": [
  {
   "cell_type": "markdown",
   "metadata": {
    "collapsed": true
   },
   "source": [
    "## Imports"
   ]
  },
  {
   "cell_type": "code",
   "execution_count": 1,
   "metadata": {},
   "outputs": [],
   "source": [
    "import plotly.figure_factory as ff\n",
    "import matplotlib.pyplot as plt\n",
    "import plotly.graph_objs as go\n",
    "from scripts import settings\n",
    "from scripts import utils\n",
    "import pandas as pd\n",
    "import numpy as np\n",
    "import shap\n",
    "import os\n",
    "\n",
    "from mlxtend.plotting import plot_confusion_matrix\n",
    "from sklearn.metrics import confusion_matrix\n",
    "from sklearn.metrics import accuracy_score\n",
    "from sklearn.metrics import classification_report"
   ]
  },
  {
   "cell_type": "markdown",
   "metadata": {},
   "source": [
    "## Participants, filter names,  directories, and models\n",
    "#### variables"
   ]
  },
  {
   "cell_type": "code",
   "execution_count": 2,
   "metadata": {},
   "outputs": [],
   "source": [
    "participants = ['azizsambo58@gmail.com', 'nslabinha@gmail.com', 'nnarziev@gmail.com', 'jskim@nsl.inha.ac.kr']\n",
    "filter_names = ['no filter', 'combined']"
   ]
  },
  {
   "cell_type": "code",
   "execution_count": 3,
   "metadata": {},
   "outputs": [],
   "source": [
    "def get_filter_additional_data(filter_name):\n",
    "    if filter_name == 'combined':\n",
    "        return (settings.combined_filtered_dataset_dir, settings.combined_best_tests)\n",
    "    elif filter_name == 'ppg':\n",
    "        return (settings.ppg_filtered_dataset_dir, settings.ppg_best_tests)\n",
    "    elif filter_name == 'acc':\n",
    "        return (settings.acc_filtered_dataset_dir, settings.acc_best_tests)\n",
    "    elif filter_name == 'no filter':\n",
    "        return (settings.not_filtered_dataset_dir, settings.no_filter_best_tests)\n",
    "    else:\n",
    "        return None"
   ]
  },
  {
   "cell_type": "code",
   "execution_count": 4,
   "metadata": {},
   "outputs": [],
   "source": [
    "all_train_dirs = {}\n",
    "all_test_numbers = {}\n",
    "for filter_name in filter_names:\n",
    "    train_dir, test_numbers = get_filter_additional_data(filter_name)\n",
    "    all_train_dirs[filter_name] = train_dir\n",
    "    all_test_numbers[filter_name] = test_numbers"
   ]
  },
  {
   "cell_type": "markdown",
   "metadata": {},
   "source": [
    "#### train & test"
   ]
  },
  {
   "cell_type": "code",
   "execution_count": 5,
   "metadata": {
    "scrolled": false
   },
   "outputs": [
    {
     "ename": "AttributeError",
     "evalue": "'NoneType' object has no attribute 'shape'",
     "output_type": "error",
     "traceback": [
      "\u001b[0;31m---------------------------------------------------------------------------\u001b[0m",
      "\u001b[0;31mAttributeError\u001b[0m                            Traceback (most recent call last)",
      "\u001b[0;32m<ipython-input-5-2701fbed1ebd>\u001b[0m in \u001b[0;36m<module>\u001b[0;34m\u001b[0m\n\u001b[1;32m     29\u001b[0m             \u001b[0mind\u001b[0m\u001b[0;34m=\u001b[0m\u001b[0;34m'mean_nni'\u001b[0m\u001b[0;34m,\u001b[0m\u001b[0;34m\u001b[0m\u001b[0;34m\u001b[0m\u001b[0m\n\u001b[1;32m     30\u001b[0m             \u001b[0minteraction_index\u001b[0m\u001b[0;34m=\u001b[0m\u001b[0;34m'mean_nni'\u001b[0m\u001b[0;34m,\u001b[0m\u001b[0;34m\u001b[0m\u001b[0;34m\u001b[0m\u001b[0m\n\u001b[0;32m---> 31\u001b[0;31m             \u001b[0mfeatures\u001b[0m\u001b[0;34m=\u001b[0m\u001b[0mX_tests\u001b[0m\u001b[0;34m\u001b[0m\u001b[0;34m\u001b[0m\u001b[0m\n\u001b[0m\u001b[1;32m     32\u001b[0m         )\n\u001b[1;32m     33\u001b[0m         \u001b[0mplt\u001b[0m\u001b[0;34m.\u001b[0m\u001b[0mshow\u001b[0m\u001b[0;34m(\u001b[0m\u001b[0;34m)\u001b[0m\u001b[0;34m\u001b[0m\u001b[0;34m\u001b[0m\u001b[0m\n",
      "\u001b[0;32m~/Desktop/stress/venv/lib/python3.6/site-packages/shap/plots/_scatter.py\u001b[0m in \u001b[0;36mdependence_legacy\u001b[0;34m(ind, shap_values, features, feature_names, display_features, interaction_index, color, axis_color, cmap, dot_size, x_jitter, alpha, title, xmin, xmax, ax, show)\u001b[0m\n\u001b[1;32m    502\u001b[0m \u001b[0;34m\u001b[0m\u001b[0m\n\u001b[1;32m    503\u001b[0m     \u001b[0;32mif\u001b[0m \u001b[0mfeature_names\u001b[0m \u001b[0;32mis\u001b[0m \u001b[0;32mNone\u001b[0m\u001b[0;34m:\u001b[0m\u001b[0;34m\u001b[0m\u001b[0;34m\u001b[0m\u001b[0m\n\u001b[0;32m--> 504\u001b[0;31m         \u001b[0mfeature_names\u001b[0m \u001b[0;34m=\u001b[0m \u001b[0;34m[\u001b[0m\u001b[0mlabels\u001b[0m\u001b[0;34m[\u001b[0m\u001b[0;34m'FEATURE'\u001b[0m\u001b[0;34m]\u001b[0m \u001b[0;34m%\u001b[0m \u001b[0mstr\u001b[0m\u001b[0;34m(\u001b[0m\u001b[0mi\u001b[0m\u001b[0;34m)\u001b[0m \u001b[0;32mfor\u001b[0m \u001b[0mi\u001b[0m \u001b[0;32min\u001b[0m \u001b[0mrange\u001b[0m\u001b[0;34m(\u001b[0m\u001b[0mshap_values\u001b[0m\u001b[0;34m.\u001b[0m\u001b[0mshape\u001b[0m\u001b[0;34m[\u001b[0m\u001b[0;36m1\u001b[0m\u001b[0;34m]\u001b[0m\u001b[0;34m)\u001b[0m\u001b[0;34m]\u001b[0m\u001b[0;34m\u001b[0m\u001b[0;34m\u001b[0m\u001b[0m\n\u001b[0m\u001b[1;32m    505\u001b[0m \u001b[0;34m\u001b[0m\u001b[0m\n\u001b[1;32m    506\u001b[0m     \u001b[0;31m# allow vectors to be passed\u001b[0m\u001b[0;34m\u001b[0m\u001b[0;34m\u001b[0m\u001b[0;34m\u001b[0m\u001b[0m\n",
      "\u001b[0;31mAttributeError\u001b[0m: 'NoneType' object has no attribute 'shape'"
     ]
    },
    {
     "data": {
      "text/plain": [
       "<Figure size 432x288 with 0 Axes>"
      ]
     },
     "metadata": {},
     "output_type": "display_data"
    }
   ],
   "source": [
    "for participant in participants:\n",
    "    for filter_name in filter_names:\n",
    "        train_dir = all_train_dirs[filter_name]\n",
    "        test_numbers = all_test_numbers[filter_name]\n",
    "        models, X_tests, conf_mtx = utils.participant_train_for_model(participant=participant, train_dir=train_dir)\n",
    "\n",
    "        # shap\n",
    "        shap_values = []\n",
    "        test_features = []\n",
    "        for model, X_test in zip(models, X_tests):\n",
    "            explainer = shap.TreeExplainer(model)\n",
    "            shap_value = explainer.shap_values(X_test, tree_limit=model.best_ntree_limit)\n",
    "            shap_values.append(shap_value)\n",
    "            test_features.append(X_test)\n",
    "        shap_values = np.vstack(shap_values)\n",
    "        test_features = pd.concat(test_features, axis=0)\n",
    "\n",
    "        # shap : overall feature impacts\n",
    "        fig = plt.figure()\n",
    "        fig.suptitle(f'{filter_name}, {participant}', fontsize=20)\n",
    "#         plt.xlim(-6, 6)\n",
    "#         shap.summary_plot(\n",
    "#            shap_values,\n",
    "#            test_features,\n",
    "#            sort=True\n",
    "#         )\n",
    "        shap.dependence_plot(0, shap_values, X)\n",
    "        plt.show()\n",
    "        \n",
    "        # shap values\n",
    "        pd.DataFrame(shap_values).head()\n"
   ]
  },
  {
   "cell_type": "code",
   "execution_count": null,
   "metadata": {},
   "outputs": [],
   "source": []
  }
 ],
 "metadata": {
  "kernelspec": {
   "display_name": "Python 3",
   "language": "python",
   "name": "python3"
  },
  "language_info": {
   "codemirror_mode": {
    "name": "ipython",
    "version": 3
   },
   "file_extension": ".py",
   "mimetype": "text/x-python",
   "name": "python",
   "nbconvert_exporter": "python",
   "pygments_lexer": "ipython3",
   "version": "3.6.8"
  }
 },
 "nbformat": 4,
 "nbformat_minor": 1
}
