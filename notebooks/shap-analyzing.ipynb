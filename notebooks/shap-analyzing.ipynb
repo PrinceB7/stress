{
 "cells": [
  {
   "cell_type": "markdown",
   "metadata": {
    "collapsed": true
   },
   "source": [
    "## Imports"
   ]
  },
  {
   "cell_type": "code",
   "execution_count": 1,
   "metadata": {},
   "outputs": [
    {
     "name": "stdout",
     "output_type": "stream",
     "text": [
      "root_dir /Users/kevin/Desktop/stress\n"
     ]
    }
   ],
   "source": [
    "import plotly.figure_factory as ff\n",
    "import matplotlib.pyplot as plt\n",
    "import plotly.graph_objs as go\n",
    "from scripts import settings\n",
    "from scripts import utils\n",
    "import pandas as pd\n",
    "import numpy as np\n",
    "import shap\n",
    "import os\n",
    "\n",
    "from mlxtend.plotting import plot_confusion_matrix\n",
    "from sklearn.metrics import confusion_matrix\n",
    "from sklearn.metrics import accuracy_score\n",
    "from sklearn.metrics import classification_report\n",
    "\n",
    "settings.init_paths()"
   ]
  },
  {
   "cell_type": "markdown",
   "metadata": {},
   "source": [
    "## Participants, filter names,  directories, and models\n",
    "#### variables"
   ]
  },
  {
   "cell_type": "code",
   "execution_count": 2,
   "metadata": {},
   "outputs": [
    {
     "name": "stdout",
     "output_type": "stream",
     "text": [
      "{'no filter': '/Users/kevin/Desktop/stress/data/processed dataset/1. not filtered dataset', 'combined': '/Users/kevin/Desktop/stress/data/processed dataset/4. combined filtered dataset'}\n"
     ]
    }
   ],
   "source": [
    "# participants_high_accuracy = ['aliceblackwood123@gmail.com', 'salman@nsl.inha.ac.kr', 'jumabek4044@gmail.com', 'nazarov7mu@gmail.com']\n",
    "# participants_low_accuracy = ['laurentkalpers3@gmail.com', 'nnarziev@gmail.com', 'mr.khikmatillo@gmail.com']\n",
    "\n",
    "# participants_high_improvement = ['azizsambo58@gmail.com', 'nslabinha@gmail.com']\n",
    "# participants_low_improvement = ['jskim@nsl.inha.ac.kr', 'nnarziev@gmail.com']\n",
    "\n",
    "participants_high_to_low_improvement = [\n",
    "    'azizsambo58@gmail.com',\n",
    "    'nslabinha@gmail.com',\n",
    "    'nazarov7mu@gmail.com',\n",
    "    'aliceblackwood123@gmail.com',\n",
    "    'salman@nsl.inha.ac.kr',\n",
    "    'mr.khikmatillo@gmail.com',\n",
    "    'jumabek4044@gmail.com',\n",
    "    'laurentkalpers3@gmail.com',\n",
    "    'jskim@nsl.inha.ac.kr',\n",
    "    'nnarziev@gmail.com'\n",
    "]\n",
    "\n",
    "filter_datasets = {\n",
    "    'no filter': settings.not_filtered_dataset_dir,\n",
    "    'combined': settings.combined_filtered_dataset_dir,\n",
    "    #'ppg': settings.ppg_filtered_dataset_dir,\n",
    "    #'acc': settings.acc_filtered_dataset_dir\n",
    "}\n",
    "print(filter_datasets)"
   ]
  },
  {
   "cell_type": "markdown",
   "metadata": {},
   "source": [
    "#### train & test"
   ]
  },
  {
   "cell_type": "code",
   "execution_count": null,
   "metadata": {
    "scrolled": false
   },
   "outputs": [],
   "source": [
    "for participant in participants_high_to_low_improvement:\n",
    "    for filter_name in filter_datasets.keys():\n",
    "        # train models and get test features\n",
    "        all_models, all_test_features, all_test_scores, confusion_matrix = utils.participant_train_for_model(\n",
    "            participant=participant,\n",
    "            train_dir=filter_datasets[filter_name]\n",
    "        )\n",
    "        \n",
    "        # calculate shap values\n",
    "        shap_values = []\n",
    "        for sub_model, sub_test_features, sub_test_scores in zip(all_models, all_test_features, all_test_scores):\n",
    "            tree_explainer = shap.TreeExplainer(sub_model)\n",
    "            sub_shap_values = tree_explainer.shap_values(sub_test_features, tree_limit=sub_model.best_ntree_limit)\n",
    "            shap_values += [sub_shap_values]\n",
    "        shap_values = np.vstack(shap_values)\n",
    "        test_features = pd.concat(all_test_features, axis=0)\n",
    "        \n",
    "        # print accuracy\n",
    "        f1 = sum([f1 for f1, _ in all_test_scores]) / len(all_test_scores)\n",
    "        roc_auc = sum([roc_auc for _, roc_auc in all_test_scores]) / len(all_test_scores)\n",
    "        print(f'{participant}, {filter_name}, f1={f1:.2f}, roc_auc={roc_auc:.2f}')\n",
    "\n",
    "        # plot shap summary plot - e.g., view all feature impacts to the tests\n",
    "        # shap.summary_plot(\n",
    "        #     shap_values,\n",
    "        #     test_features,\n",
    "        #     sort=False,\n",
    "        #     show=False\n",
    "        # )\n",
    "        # plt.xlim(-6, 6)\n",
    "        # plt.title(f'{filter_name}, {participant} ({len(shap_values)} shap values)')\n",
    "        # plt.show()\n",
    "        \n",
    "        # plot shap dependence plot - e.g., view correlation between impacts of two features\n",
    "        shap.dependence_plot(\n",
    "            'nni_50',\n",
    "            shap_values,\n",
    "            test_features,\n",
    "            interaction_index='nni_50',\n",
    "            show=False\n",
    "        )\n",
    "        plt.ylim(-5, 5)\n",
    "        plt.title(f'{filter_name}, {participant} ({len(shap_values)} shap values)')\n",
    "        plt.show()"
   ]
  },
  {
   "cell_type": "code",
   "execution_count": null,
   "metadata": {},
   "outputs": [],
   "source": []
  }
 ],
 "metadata": {
  "kernelspec": {
   "display_name": "Python 3",
   "language": "python",
   "name": "python3"
  },
  "language_info": {
   "codemirror_mode": {
    "name": "ipython",
    "version": 3
   },
   "file_extension": ".py",
   "mimetype": "text/x-python",
   "name": "python",
   "nbconvert_exporter": "python",
   "pygments_lexer": "ipython3",
   "version": "3.6.8"
  }
 },
 "nbformat": 4,
 "nbformat_minor": 1
}
